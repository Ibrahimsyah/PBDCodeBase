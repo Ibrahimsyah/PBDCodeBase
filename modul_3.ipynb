{
 "cells": [
  {
   "cell_type": "code",
   "execution_count": 3,
   "metadata": {},
   "outputs": [],
   "source": [
    "import findspark\n",
    "findspark.init()\n",
    "from pyspark.sql import SparkSession"
   ]
  },
  {
   "cell_type": "code",
   "execution_count": 13,
   "metadata": {},
   "outputs": [],
   "source": [
    "spark = SparkSession \\\n",
    ".builder \\\n",
    ".appName(\"Python Spark SQL basic example\") \\\n",
    ".config(\"spark.jars\",\n",
    "\"/usr/share/java/postgresql.jar\") \\\n",
    ".getOrCreate()"
   ]
  },
  {
   "cell_type": "code",
   "execution_count": 22,
   "metadata": {},
   "outputs": [
    {
     "data": {
      "text/plain": [
       "<bound method DataFrameReader.jdbc of <pyspark.sql.readwriter.DataFrameReader object at 0x7f8348111550>>"
      ]
     },
     "execution_count": 22,
     "metadata": {},
     "output_type": "execute_result"
    }
   ],
   "source": [
    "spark.read.jdbc"
   ]
  },
  {
   "cell_type": "code",
   "execution_count": 23,
   "metadata": {},
   "outputs": [
    {
     "name": "stdout",
     "output_type": "stream",
     "text": [
      "root\n",
      " |-- productid: integer (nullable = true)\n",
      " |-- productname: string (nullable = true)\n",
      " |-- supplierid: integer (nullable = true)\n",
      " |-- categoryid: integer (nullable = true)\n",
      " |-- unit: string (nullable = true)\n",
      " |-- price: integer (nullable = true)\n",
      "\n"
     ]
    }
   ],
   "source": [
    "df = spark.read.format(\"jdbc\").option(\"url\",\"jdbc:postgresql://localhost:5432/praktikum\").option(\"dbtable\", \"products\").option(\"user\", \"postgres\").option(\"password\", \"root\").option(\"driver\", \"org.postgresql.Driver\").load()\n",
    "df.printSchema()"
   ]
  },
  {
   "cell_type": "code",
   "execution_count": 24,
   "metadata": {},
   "outputs": [
    {
     "name": "stdout",
     "output_type": "stream",
     "text": [
      "+---------+--------------------+----------+----------+--------------------+-----+\n",
      "|productid|         productname|supplierid|categoryid|                unit|price|\n",
      "+---------+--------------------+----------+----------+--------------------+-----+\n",
      "|        1|               Chais|         1|         1|  10 boxes x 20 bags|   18|\n",
      "|        2|               Chang|         1|         1|  24   12 oz bottles|   19|\n",
      "|        3|       Aniseed Syrup|         1|         2| 12   550 ml bottles|   10|\n",
      "|        4|Chef Anton s Caju...|         2|         2|      48   6 oz jars|   22|\n",
      "|        5|Chef Anton s Gumb...|         2|         2|            36 boxes|   21|\n",
      "|        6|Grandma s Boysenb...|         3|         2|      12   8 oz jars|   25|\n",
      "|        7|Uncle Bob s Organ...|         3|         7|     12   1 lb pkgs.|   30|\n",
      "|        8|Northwoods Cranbe...|         3|         2|     12   12 oz jars|   40|\n",
      "|        9|     Mishi Kobe Niku|         4|         6|    18   500 g pkgs.|   97|\n",
      "|       10|               Ikura|         4|         8|    12   200 ml jars|   31|\n",
      "|       11|      Queso Cabrales|         5|         4|           1 kg pkg.|   21|\n",
      "|       12|Queso Manchego La...|         5|         4|    10   500 g pkgs.|   38|\n",
      "|       13|               Konbu|         6|         8|            2 kg box|    6|\n",
      "|       14|                Tofu|         6|         7|    40   100 g pkgs.|   23|\n",
      "|       15|        Genen Shouyu|         6|         2| 24   250 ml bottles|   16|\n",
      "|       16|             Pavlova|         7|         3|    32   500 g boxes|   17|\n",
      "|       17|        Alice Mutton|         7|         6|      20   1 kg tins|   39|\n",
      "|       18|    Carnarvon Tigers|         7|         8|          16 kg pkg.|   63|\n",
      "|       19|Teatime Chocolate...|         8|         3|10 boxes x 12 pieces|    9|\n",
      "|       20|Sir Rodney s Marm...|         8|         3|       30 gift boxes|   81|\n",
      "+---------+--------------------+----------+----------+--------------------+-----+\n",
      "only showing top 20 rows\n",
      "\n"
     ]
    }
   ],
   "source": [
    "df.show()"
   ]
  },
  {
   "cell_type": "code",
   "execution_count": null,
   "metadata": {},
   "outputs": [],
   "source": []
  }
 ],
 "metadata": {
  "kernelspec": {
   "display_name": "Python 3",
   "language": "python",
   "name": "python3"
  },
  "language_info": {
   "codemirror_mode": {
    "name": "ipython",
    "version": 3
   },
   "file_extension": ".py",
   "mimetype": "text/x-python",
   "name": "python",
   "nbconvert_exporter": "python",
   "pygments_lexer": "ipython3",
   "version": "3.8.3"
  }
 },
 "nbformat": 4,
 "nbformat_minor": 4
}
