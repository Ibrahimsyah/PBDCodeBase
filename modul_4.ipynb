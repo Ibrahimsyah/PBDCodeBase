{
 "cells": [
  {
   "cell_type": "code",
   "execution_count": 2,
   "metadata": {},
   "outputs": [],
   "source": [
    "import findspark\n",
    "findspark.init()\n",
    "from pyspark.sql import SparkSession"
   ]
  },
  {
   "cell_type": "code",
   "execution_count": 3,
   "metadata": {},
   "outputs": [],
   "source": [
    "from pyspark import SparkContext,SparkConf\n",
    "conf = SparkConf().set(\"spark.jars.packages\", \"org.mongodb.spark:mongo-spark-connector_2.12:3.0.0\")\n",
    "sc = SparkContext(conf=conf)"
   ]
  },
  {
   "cell_type": "code",
   "execution_count": 10,
   "metadata": {},
   "outputs": [],
   "source": [
    "from pyspark.sql import SparkSession\n",
    "spark = SparkSession.builder\\\n",
    "                    .appName(\"myApp\")\\\n",
    "                    .config(\"spark.mongodb.input.uri\",\"mongodb://127.0.0.1:27017/praktikum.bios\")\\\n",
    "                    .config(\"spark.mongodb.output.uri\",\"mongodb://127.0.0.1:27017/praktikum.bios\")\\\n",
    "                    .getOrCreate()"
   ]
  },
  {
   "cell_type": "code",
   "execution_count": 11,
   "metadata": {},
   "outputs": [
    {
     "name": "stdout",
     "output_type": "stream",
     "text": [
      "root\n",
      " |-- _id: string (nullable = true)\n",
      " |-- awards: array (nullable = true)\n",
      " |    |-- element: struct (containsNull = true)\n",
      " |    |    |-- award: string (nullable = true)\n",
      " |    |    |-- by: string (nullable = true)\n",
      " |    |    |-- year: string (nullable = true)\n",
      " |-- birth: timestamp (nullable = true)\n",
      " |-- contribs: array (nullable = true)\n",
      " |    |-- element: string (containsNull = true)\n",
      " |-- death: timestamp (nullable = true)\n",
      " |-- name: struct (nullable = true)\n",
      " |    |-- aka: string (nullable = true)\n",
      " |    |-- first: string (nullable = true)\n",
      " |    |-- last: string (nullable = true)\n",
      " |-- title: string (nullable = true)\n",
      "\n"
     ]
    }
   ],
   "source": [
    "df = spark.read\\\n",
    "    .format(\"com.mongodb.spark.sql.DefaultSource\")\\\n",
    "    .option(\"uri\", \"mongodb://127.0.0.1:27017/praktikum.bios\")\\\n",
    "    .option(\"database\", \"praktikum\")\\\n",
    "    .option(\"collection\", \"bios\")\\\n",
    "    .load()\n",
    "df.printSchema()"
   ]
  },
  {
   "cell_type": "code",
   "execution_count": 15,
   "metadata": {},
   "outputs": [
    {
     "name": "stdout",
     "output_type": "stream",
     "text": [
      "+-------------------+-------------------+\n",
      "|              birth|              death|\n",
      "+-------------------+-------------------+\n",
      "|1924-12-03 12:20:00|2007-03-17 11:00:00|\n",
      "|1927-09-04 11:20:00|2011-12-24 12:00:00|\n",
      "|1906-12-09 12:07:12|1992-01-01 12:00:00|\n",
      "|1926-08-27 11:20:00|2002-08-10 11:00:00|\n",
      "|1931-10-12 11:20:00|2002-06-29 11:00:00|\n",
      "|1956-01-31 12:30:00|               null|\n",
      "|1941-09-09 11:30:00|2011-10-12 11:00:00|\n",
      "|1965-04-14 11:00:00|               null|\n",
      "|1955-05-19 11:30:00|               null|\n",
      "|               null|               null|\n",
      "+-------------------+-------------------+\n",
      "\n"
     ]
    }
   ],
   "source": [
    "df.select('birth', 'death').show()"
   ]
  },
  {
   "cell_type": "code",
   "execution_count": null,
   "metadata": {},
   "outputs": [],
   "source": []
  }
 ],
 "metadata": {
  "kernelspec": {
   "display_name": "Python 3",
   "language": "python",
   "name": "python3"
  },
  "language_info": {
   "codemirror_mode": {
    "name": "ipython",
    "version": 3
   },
   "file_extension": ".py",
   "mimetype": "text/x-python",
   "name": "python",
   "nbconvert_exporter": "python",
   "pygments_lexer": "ipython3",
   "version": "3.8.3"
  }
 },
 "nbformat": 4,
 "nbformat_minor": 4
}
